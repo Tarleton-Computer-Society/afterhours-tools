{
 "cells": [
  {
   "cell_type": "code",
   "execution_count": 3,
   "metadata": {},
   "outputs": [],
   "source": [
    "import requests\n",
    "import re\n",
    "from bs4 import BeautifulSoup\n",
    "\n",
    "URL = \"https://catalog.tarleton.edu/undergrad/courses/acc/\"\n",
    "page = requests.get(URL)\n",
    "\n",
    "data = BeautifulSoup(page.content, \"html.parser\")\n"
   ]
  },
  {
   "cell_type": "code",
   "execution_count": 4,
   "metadata": {},
   "outputs": [],
   "source": [
    "courses = data.find_all('div',{\"class\":\"courseblock\"})"
   ]
  },
  {
   "cell_type": "code",
   "execution_count": 5,
   "metadata": {},
   "outputs": [
    {
     "data": {
      "text/plain": [
       "'<div class=\"courseblock\">\\n<p class=\"courseblocktitle\"><strong>ACCT\\xa02301.  Principles of Accounting I-Financial.  3 Credit Hours (Lecture: 3 Hours, Lab: 1 Hour). </strong></p><p class=\"courseblockdesc\">\\nAn introduction to financial accounting concepts and their application in the accounting process for business organizations.  Includes financial statement preparation and analysis and communication of financial information.  No previous knowledge of accounting required. Prerequisite: <a class=\"bubblelink code\" href=\"/search/?P=MATH%201314\" onclick=\"return showCourse(this, \\'MATH 1314\\');\" title=\"MATH\\xa01314\">MATH\\xa01314</a>, <a class=\"bubblelink code\" href=\"/search/?P=MATH%201332\" onclick=\"return showCourse(this, \\'MATH 1332\\');\" title=\"MATH\\xa01332\">MATH\\xa01332</a>, <a class=\"bubblelink code\" href=\"/search/?P=MATH%201324\" onclick=\"return showCourse(this, \\'MATH 1324\\');\" title=\"MATH\\xa01324\">MATH\\xa01324</a>, <a class=\"bubblelink code\" href=\"/search/?P=MATH%202412\" onclick=\"return showCourse(this, \\'MATH 2412\\');\" title=\"MATH\\xa02412\">MATH\\xa02412</a>, <a class=\"bubblelink code\" href=\"/search/?P=MATH%202413\" onclick=\"return showCourse(this, \\'MATH 2413\\');\" title=\"MATH\\xa02413\">MATH\\xa02413</a>, <a class=\"bubblelink code\" href=\"/search/?P=MATH%201342\" onclick=\"return showCourse(this, \\'MATH 1342\\');\" title=\"MATH\\xa01342\">MATH\\xa01342</a>, or concurrent enrollment, or approval of department head. Lab fee $2.<br/>\\n</p>\\n</div>'"
      ]
     },
     "execution_count": 5,
     "metadata": {},
     "output_type": "execute_result"
    }
   ],
   "source": [
    "str(courses[0])"
   ]
  },
  {
   "cell_type": "code",
   "execution_count": 17,
   "metadata": {},
   "outputs": [],
   "source": [
    "def get_courses_details(courses,index):\n",
    "\n",
    "    coursec = re.findall(r'<strong>(.*?)<\\/strong>', str(courses[index]))\n",
    "\n",
    "    for course in coursec:\n",
    "        course_info = course.split('. ')\n",
    "        course_number = course_info[0].strip()\n",
    "        course_name = course_info[1].strip().split('  ')[0].strip()\n",
    "        credit_hours = re.search(r'(\\d+)\\s+Credit', course_info[2].strip()).group(1)\n",
    "\n",
    "    \n",
    "        return {'course_number': course_number.replace(u'\\xa0', ' '), 'course_name': course_name,'credit_hours': credit_hours}"
   ]
  },
  {
   "cell_type": "code",
   "execution_count": 18,
   "metadata": {},
   "outputs": [
    {
     "data": {
      "text/plain": [
       "[{'course_number': 'ACCT 2301',\n",
       "  'course_name': 'Principles of Accounting I-Financial',\n",
       "  'credit_hours': '3'},\n",
       " {'course_number': 'ACCT 2302',\n",
       "  'course_name': 'Principles of Accounting II-Managerial',\n",
       "  'credit_hours': '3'},\n",
       " {'course_number': 'ACCT 3300',\n",
       "  'course_name': 'Accounting Concepts',\n",
       "  'credit_hours': '3'},\n",
       " {'course_number': 'ACCT 3301',\n",
       "  'course_name': 'Business Analysis using Spreadsheets',\n",
       "  'credit_hours': '3'},\n",
       " {'course_number': 'ACCT 3302',\n",
       "  'course_name': 'Cost Accounting',\n",
       "  'credit_hours': '3'},\n",
       " {'course_number': 'ACCT 3303',\n",
       "  'course_name': 'Intermediate Accounting I',\n",
       "  'credit_hours': '3'},\n",
       " {'course_number': 'ACCT 3304',\n",
       "  'course_name': 'Intermediate Accounting II',\n",
       "  'credit_hours': '3'},\n",
       " {'course_number': 'ACCT 3305',\n",
       "  'course_name': 'Government and Institutional Accounting',\n",
       "  'credit_hours': '3'},\n",
       " {'course_number': 'ACCT 3310',\n",
       "  'course_name': 'Accounting Information Systems',\n",
       "  'credit_hours': '3'},\n",
       " {'course_number': 'ACCT 4084',\n",
       "  'course_name': 'Internship',\n",
       "  'credit_hours': '6'},\n",
       " {'course_number': 'ACCT 4086',\n",
       "  'course_name': 'Problems',\n",
       "  'credit_hours': '3'},\n",
       " {'course_number': 'ACCT 4090',\n",
       "  'course_name': 'Special Topics in Accounting',\n",
       "  'credit_hours': '3'},\n",
       " {'course_number': 'ACCT 4301',\n",
       "  'course_name': 'Financial Accounting',\n",
       "  'credit_hours': '3'},\n",
       " {'course_number': 'ACCT 4303',\n",
       "  'course_name': 'Advanced Accounting Principles',\n",
       "  'credit_hours': '3'},\n",
       " {'course_number': 'ACCT 4305',\n",
       "  'course_name': 'Federal Tax Accounting',\n",
       "  'credit_hours': '3'},\n",
       " {'course_number': 'ACCT 4306',\n",
       "  'course_name': 'Federal Tax Accounting Advanced',\n",
       "  'credit_hours': '3'},\n",
       " {'course_number': 'ACCT 4315',\n",
       "  'course_name': 'Estate and Gift Tax',\n",
       "  'credit_hours': '3'},\n",
       " {'course_number': 'ACCT 4323',\n",
       "  'course_name': 'Ethics for Accountants',\n",
       "  'credit_hours': '3'},\n",
       " {'course_number': 'ACCT 4324',\n",
       "  'course_name': 'Auditing Evidence and Report',\n",
       "  'credit_hours': '3'},\n",
       " {'course_number': 'ACCT 4325',\n",
       "  'course_name': 'Fraud Examination',\n",
       "  'credit_hours': '3'},\n",
       " {'course_number': 'ACCT 4385', 'course_name': 'Seminar', 'credit_hours': '3'}]"
      ]
     },
     "execution_count": 18,
     "metadata": {},
     "output_type": "execute_result"
    }
   ],
   "source": [
    "box=[]\n",
    "for i in range(len(courses)):\n",
    "    box.append(get_courses_details(courses,i))\n",
    "box"
   ]
  },
  {
   "cell_type": "code",
   "execution_count": 22,
   "metadata": {},
   "outputs": [
    {
     "ename": "UnsupportedOperation",
     "evalue": "not readable",
     "output_type": "error",
     "traceback": [
      "\u001b[0;31m---------------------------------------------------------------------------\u001b[0m",
      "\u001b[0;31mUnsupportedOperation\u001b[0m                      Traceback (most recent call last)",
      "Cell \u001b[0;32mIn[22], line 3\u001b[0m\n\u001b[1;32m      1\u001b[0m \u001b[39mimport\u001b[39;00m \u001b[39mjson\u001b[39;00m \n\u001b[1;32m      2\u001b[0m \u001b[39mwith\u001b[39;00m \u001b[39mopen\u001b[39m(\u001b[39m'\u001b[39m\u001b[39mlinks_data.json\u001b[39m\u001b[39m'\u001b[39m,\u001b[39m'\u001b[39m\u001b[39mw\u001b[39m\u001b[39m'\u001b[39m) \u001b[39mas\u001b[39;00m f:\n\u001b[0;32m----> 3\u001b[0m     data \u001b[39m=\u001b[39m json\u001b[39m.\u001b[39;49mload(f)\n",
      "File \u001b[0;32m/opt/homebrew/Cellar/python@3.10/3.10.9/Frameworks/Python.framework/Versions/3.10/lib/python3.10/json/__init__.py:293\u001b[0m, in \u001b[0;36mload\u001b[0;34m(fp, cls, object_hook, parse_float, parse_int, parse_constant, object_pairs_hook, **kw)\u001b[0m\n\u001b[1;32m    274\u001b[0m \u001b[39mdef\u001b[39;00m \u001b[39mload\u001b[39m(fp, \u001b[39m*\u001b[39m, \u001b[39mcls\u001b[39m\u001b[39m=\u001b[39m\u001b[39mNone\u001b[39;00m, object_hook\u001b[39m=\u001b[39m\u001b[39mNone\u001b[39;00m, parse_float\u001b[39m=\u001b[39m\u001b[39mNone\u001b[39;00m,\n\u001b[1;32m    275\u001b[0m         parse_int\u001b[39m=\u001b[39m\u001b[39mNone\u001b[39;00m, parse_constant\u001b[39m=\u001b[39m\u001b[39mNone\u001b[39;00m, object_pairs_hook\u001b[39m=\u001b[39m\u001b[39mNone\u001b[39;00m, \u001b[39m*\u001b[39m\u001b[39m*\u001b[39mkw):\n\u001b[1;32m    276\u001b[0m \u001b[39m    \u001b[39m\u001b[39m\"\"\"Deserialize ``fp`` (a ``.read()``-supporting file-like object containing\u001b[39;00m\n\u001b[1;32m    277\u001b[0m \u001b[39m    a JSON document) to a Python object.\u001b[39;00m\n\u001b[1;32m    278\u001b[0m \n\u001b[0;32m   (...)\u001b[0m\n\u001b[1;32m    291\u001b[0m \u001b[39m    kwarg; otherwise ``JSONDecoder`` is used.\u001b[39;00m\n\u001b[1;32m    292\u001b[0m \u001b[39m    \"\"\"\u001b[39;00m\n\u001b[0;32m--> 293\u001b[0m     \u001b[39mreturn\u001b[39;00m loads(fp\u001b[39m.\u001b[39;49mread(),\n\u001b[1;32m    294\u001b[0m         \u001b[39mcls\u001b[39m\u001b[39m=\u001b[39m\u001b[39mcls\u001b[39m, object_hook\u001b[39m=\u001b[39mobject_hook,\n\u001b[1;32m    295\u001b[0m         parse_float\u001b[39m=\u001b[39mparse_float, parse_int\u001b[39m=\u001b[39mparse_int,\n\u001b[1;32m    296\u001b[0m         parse_constant\u001b[39m=\u001b[39mparse_constant, object_pairs_hook\u001b[39m=\u001b[39mobject_pairs_hook, \u001b[39m*\u001b[39m\u001b[39m*\u001b[39mkw)\n",
      "\u001b[0;31mUnsupportedOperation\u001b[0m: not readable"
     ]
    }
   ],
   "source": [
    "import json \n",
    "with open('links_data.json','r') as f:\n",
    "    data = json.load(f)"
   ]
  },
  {
   "cell_type": "code",
   "execution_count": 34,
   "metadata": {},
   "outputs": [
    {
     "data": {
      "text/plain": [
       "''"
      ]
     },
     "execution_count": 34,
     "metadata": {},
     "output_type": "execute_result"
    }
   ],
   "source": [
    "box\n"
   ]
  },
  {
   "cell_type": "code",
   "execution_count": null,
   "metadata": {},
   "outputs": [],
   "source": []
  }
 ],
 "metadata": {
  "kernelspec": {
   "display_name": "Python 3",
   "language": "python",
   "name": "python3"
  },
  "language_info": {
   "codemirror_mode": {
    "name": "ipython",
    "version": 3
   },
   "file_extension": ".py",
   "mimetype": "text/x-python",
   "name": "python",
   "nbconvert_exporter": "python",
   "pygments_lexer": "ipython3",
   "version": "3.10.9"
  },
  "orig_nbformat": 4,
  "vscode": {
   "interpreter": {
    "hash": "b0fa6594d8f4cbf19f97940f81e996739fb7646882a419484c72d19e05852a7e"
   }
  }
 },
 "nbformat": 4,
 "nbformat_minor": 2
}
