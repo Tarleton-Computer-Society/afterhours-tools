{
 "cells": [
  {
   "cell_type": "code",
   "execution_count": 3,
   "metadata": {},
   "outputs": [],
   "source": [
    "import requests\n",
    "import re\n",
    "from bs4 import BeautifulSoup\n",
    "\n",
    "\n"
   ]
  },
  {
   "cell_type": "code",
   "execution_count": 43,
   "metadata": {},
   "outputs": [],
   "source": [
    "def callscraper(link):\n",
    "    URL = link\n",
    "    page = requests.get(URL)\n",
    "\n",
    "    data = BeautifulSoup(page.content, \"html.parser\")\n",
    "    courses = data.find_all('div',{\"class\":\"courseblock\"})\n",
    "    return courses"
   ]
  },
  {
   "cell_type": "code",
   "execution_count": null,
   "metadata": {},
   "outputs": [],
   "source": [
    " "
   ]
  },
  {
   "cell_type": "code",
   "execution_count": 44,
   "metadata": {},
   "outputs": [],
   "source": [
    "def get_courses_details(courses,index,major):\n",
    "\n",
    "    coursec = re.findall(r'<strong>(.*?)<\\/strong>', str(courses[index]))\n",
    "\n",
    "    for course in coursec:\n",
    "        course_info = course.split('. ')\n",
    "        course_number = course_info[0].strip()\n",
    "        course_name = course_info[1].strip().split('  ')[0].strip()\n",
    "        # credit_hours = re.search(r'(\\d+)\\s+Credit', course_info[2].strip()).group(1)\n",
    "\n",
    "    \n",
    "        return {'course_number': course_number.replace(u'\\xa0', ' '), 'course_name': course_name,'major':major}"
   ]
  },
  {
   "cell_type": "code",
   "execution_count": 45,
   "metadata": {},
   "outputs": [],
   "source": [
    "import json \n",
    "with open('links_data.json','r') as f:\n",
    "    data = json.load(f)"
   ]
  },
  {
   "cell_type": "code",
   "execution_count": 46,
   "metadata": {},
   "outputs": [
    {
     "name": "stdout",
     "output_type": "stream",
     "text": [
      "0 out of 96\n",
      "1 out of 96\n",
      "2 out of 96\n",
      "3 out of 96\n",
      "4 out of 96\n",
      "5 out of 96\n",
      "6 out of 96\n",
      "7 out of 96\n",
      "8 out of 96\n",
      "9 out of 96\n",
      "10 out of 96\n",
      "11 out of 96\n",
      "12 out of 96\n",
      "13 out of 96\n",
      "14 out of 96\n",
      "15 out of 96\n",
      "16 out of 96\n",
      "17 out of 96\n",
      "18 out of 96\n",
      "19 out of 96\n",
      "20 out of 96\n",
      "21 out of 96\n",
      "22 out of 96\n",
      "23 out of 96\n",
      "24 out of 96\n",
      "25 out of 96\n",
      "26 out of 96\n",
      "27 out of 96\n",
      "28 out of 96\n",
      "29 out of 96\n",
      "30 out of 96\n",
      "31 out of 96\n",
      "32 out of 96\n",
      "33 out of 96\n",
      "34 out of 96\n",
      "35 out of 96\n",
      "36 out of 96\n",
      "37 out of 96\n",
      "38 out of 96\n",
      "39 out of 96\n",
      "40 out of 96\n",
      "41 out of 96\n",
      "42 out of 96\n",
      "43 out of 96\n",
      "44 out of 96\n",
      "45 out of 96\n",
      "46 out of 96\n",
      "47 out of 96\n",
      "48 out of 96\n",
      "49 out of 96\n",
      "50 out of 96\n",
      "51 out of 96\n",
      "52 out of 96\n",
      "53 out of 96\n",
      "54 out of 96\n",
      "55 out of 96\n",
      "56 out of 96\n",
      "57 out of 96\n",
      "58 out of 96\n",
      "59 out of 96\n",
      "60 out of 96\n",
      "61 out of 96\n",
      "62 out of 96\n",
      "63 out of 96\n",
      "64 out of 96\n",
      "65 out of 96\n",
      "66 out of 96\n",
      "67 out of 96\n",
      "68 out of 96\n",
      "69 out of 96\n",
      "70 out of 96\n",
      "71 out of 96\n",
      "72 out of 96\n",
      "73 out of 96\n",
      "74 out of 96\n",
      "75 out of 96\n",
      "76 out of 96\n",
      "77 out of 96\n",
      "78 out of 96\n",
      "79 out of 96\n",
      "80 out of 96\n",
      "81 out of 96\n",
      "82 out of 96\n",
      "83 out of 96\n",
      "84 out of 96\n",
      "85 out of 96\n",
      "86 out of 96\n",
      "87 out of 96\n",
      "88 out of 96\n",
      "89 out of 96\n",
      "90 out of 96\n",
      "91 out of 96\n",
      "92 out of 96\n",
      "93 out of 96\n",
      "94 out of 96\n",
      "95 out of 96\n"
     ]
    }
   ],
   "source": [
    "gendata = []\n",
    "coursei =[]\n",
    "for ld,ll in zip(data,range(len(data))):\n",
    "\n",
    "    url = 'https://catalog.tarleton.edu'+str(ld['link'])\n",
    "    courses = callscraper(url)\n",
    "    box=[]\n",
    "    print(f'{ll} out of {str(len(data))}')\n",
    "    for i in range(len(courses)):\n",
    "        box.append(get_courses_details(courses,i,ld['major']))\n",
    "    # gendata.append({'courses':box,\"major\":ld['major']})\n",
    "\n",
    "    coursei.append(box)\n",
    "    \n",
    "    "
   ]
  },
  {
   "cell_type": "code",
   "execution_count": 40,
   "metadata": {},
   "outputs": [],
   "source": [
    "def tojson(arr:list,save:bool=False)->list:\n",
    "    box=[]\n",
    "    i=0\n",
    "    # for _ in arr:\n",
    "    #     i+=1\n",
    "    #     dic_ = {\n",
    "    #         'index':i,\n",
    "    #         'major':_\n",
    "    #     }\n",
    "    #     box.append(dic_)\n",
    "    # # if save:\n",
    "    # #     open('links_data.json','w').write(str(arr))\n",
    "    # # return box\n",
    "    import json\n",
    "    # print(json.loads(arr))\n",
    "    with open('course_i_data.json','w') as f:\n",
    "    \n",
    "        json.dump(arr, f)\n",
    "    # json.dump(arr, open('links_data.json'))"
   ]
  },
  {
   "cell_type": "code",
   "execution_count": 42,
   "metadata": {},
   "outputs": [],
   "source": [
    "tojson(coursei,True)"
   ]
  },
  {
   "cell_type": "code",
   "execution_count": null,
   "metadata": {},
   "outputs": [],
   "source": []
  }
 ],
 "metadata": {
  "kernelspec": {
   "display_name": "Python 3",
   "language": "python",
   "name": "python3"
  },
  "language_info": {
   "codemirror_mode": {
    "name": "ipython",
    "version": 3
   },
   "file_extension": ".py",
   "mimetype": "text/x-python",
   "name": "python",
   "nbconvert_exporter": "python",
   "pygments_lexer": "ipython3",
   "version": "3.10.9"
  },
  "orig_nbformat": 4,
  "vscode": {
   "interpreter": {
    "hash": "b0fa6594d8f4cbf19f97940f81e996739fb7646882a419484c72d19e05852a7e"
   }
  }
 },
 "nbformat": 4,
 "nbformat_minor": 2
}
