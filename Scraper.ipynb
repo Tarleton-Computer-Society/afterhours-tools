{
 "cells": [
  {
   "cell_type": "code",
   "execution_count": 105,
   "metadata": {},
   "outputs": [
    {
     "name": "stdout",
     "output_type": "stream",
     "text": [
      "Requirement already satisfied: bs4 in /home/teddy/.local/lib/python3.8/site-packages (0.0.1)\n",
      "Requirement already satisfied: pandas in /home/teddy/.local/lib/python3.8/site-packages (1.5.0)\n",
      "Requirement already satisfied: beautifulsoup4 in /home/teddy/.local/lib/python3.8/site-packages (from bs4) (4.11.1)\n",
      "Requirement already satisfied: pytz>=2020.1 in /home/teddy/.local/lib/python3.8/site-packages (from pandas) (2022.4)\n",
      "Requirement already satisfied: python-dateutil>=2.8.1 in /home/teddy/.local/lib/python3.8/site-packages (from pandas) (2.8.2)\n",
      "Requirement already satisfied: numpy>=1.20.3; python_version < \"3.10\" in /home/teddy/.local/lib/python3.8/site-packages (from pandas) (1.23.3)\n",
      "Requirement already satisfied: soupsieve>1.2 in /home/teddy/.local/lib/python3.8/site-packages (from beautifulsoup4->bs4) (2.3.2.post1)\n",
      "Requirement already satisfied: six>=1.5 in /usr/lib/python3/dist-packages (from python-dateutil>=2.8.1->pandas) (1.14.0)\n"
     ]
    }
   ],
   "source": [
    "!pip3 install bs4 pandas\n"
   ]
  },
  {
   "cell_type": "code",
   "execution_count": 8,
   "metadata": {},
   "outputs": [],
   "source": [
    "import requests\n",
    "from bs4 import BeautifulSoup\n",
    "\n",
    "URL = \"https://catalog.tarleton.edu/undergrad/courses/\"\n",
    "page = requests.get(URL)\n",
    "\n",
    "data = BeautifulSoup(page.content, \"html.parser\")\n"
   ]
  },
  {
   "cell_type": "code",
   "execution_count": 18,
   "metadata": {},
   "outputs": [
    {
     "data": {
      "text/plain": [
       "<div class=\"page_content\" id=\"textcontainer\">\n",
       "<p><a class=\"sitemaplink\" href=\"/undergrad/courses/acc/\">Accounting</a></p>\n",
       "<p><a class=\"sitemaplink\" href=\"/undergrad/courses/adms/\">Administration</a></p>\n",
       "<p><a class=\"sitemaplink\" href=\"/undergrad/courses/aest/\">Aerospace Studies</a></p>\n",
       "<p><a class=\"sitemaplink\" href=\"/undergrad/courses/agsd/\">Agri Services and Development</a></p>\n",
       "<p><a class=\"sitemaplink\" href=\"/undergrad/courses/acom/\">Agricultural Communications</a></p>\n",
       "<p><a class=\"sitemaplink\" href=\"/undergrad/courses/aec/\">Agricultural Economics</a></p>\n",
       "<p><a class=\"sitemaplink\" href=\"/undergrad/courses/agnr/\">Agriculture and Natural Resources</a></p>\n",
       "<p><a class=\"sitemaplink\" href=\"/undergrad/courses/agri/\">Agriculture</a></p>\n",
       "<p><a class=\"sitemaplink\" href=\"/undergrad/courses/ansc/\">Animal Science</a></p>\n",
       "<p><a class=\"sitemaplink\" href=\"/undergrad/courses/anth/\">Anthropology</a></p>\n",
       "<p><a class=\"sitemaplink\" href=\"/undergrad/courses/art/\">Art</a></p>\n",
       "<p><a class=\"sitemaplink\" href=\"/undergrad/courses/biol/\">Biology</a></p>\n",
       "<p><a href=\"/undergrad/courses/btec/\">Biotechnology</a></p>\n",
       "<p><a class=\"sitemaplink\" href=\"/undergrad/courses/bcis/\">Business Computer Information Systems</a></p>\n",
       "<p><a class=\"sitemaplink\" href=\"/undergrad/courses/blaw/\">Business Law</a></p>\n",
       "<p><a class=\"sitemaplink\" href=\"/undergrad/courses/busi/\">Business</a></p>\n",
       "<p><a class=\"sitemaplink\" href=\"/undergrad/courses/chem/\">Chemistry</a></p>\n",
       "<p><a class=\"sitemaplink\" href=\"/undergrad/courses/chfs/\">Child and Family Studies</a></p>\n",
       "<p><a class=\"sitemaplink\" href=\"/undergrad/courses/cven/\">Civil Engineering</a></p>\n",
       "<p><a class=\"sitemaplink\" href=\"/undergrad/courses/csdo/\">Communication Sciences and Disorders</a></p>\n",
       "<p><a class=\"sitemaplink\" href=\"/undergrad/courses/coms/\">Communication</a></p>\n",
       "<p><a class=\"sitemaplink\" href=\"/undergrad/courses/cs/\">Computer Science</a></p>\n",
       "<p><a class=\"sitemaplink\" href=\"/undergrad/courses/cnst/\">Construction</a></p>\n",
       "<p><a class=\"sitemaplink\" href=\"/undergrad/courses/cnsl/\">Counseling</a></p>\n",
       "<p><a class=\"sitemaplink\" href=\"/undergrad/courses/cj/\">Criminal Justice</a></p>\n",
       "<p><a class=\"sitemaplink\" href=\"/undergrad/courses/danc/\">Dance</a></p>\n",
       "<p><a class=\"sitemaplink\" href=\"/undergrad/courses/dram/\">Drama</a></p>\n",
       "<p><a class=\"sitemaplink\" href=\"/undergrad/courses/teca/\">Early Childhood Education</a></p>\n",
       "<p><a class=\"sitemaplink\" href=\"/undergrad/courses/es/\">Earth Science</a></p>\n",
       "<p><a class=\"sitemaplink\" href=\"/undergrad/courses/eco/\">Economics</a></p>\n",
       "<p><a class=\"sitemaplink\" href=\"/undergrad/courses/edu/\">Education</a></p>\n",
       "<p><a class=\"sitemaplink\" href=\"/undergrad/courses/elen/\">Electrical Engineering</a></p>\n",
       "<p><a class=\"sitemaplink\" href=\"/undergrad/courses/engt/\">Engineering Technology</a></p>\n",
       "<p><a class=\"sitemaplink\" href=\"/undergrad/courses/engr/\">Engineering</a></p>\n",
       "<p><a class=\"sitemaplink\" href=\"/undergrad/courses/engl/\">English</a></p>\n",
       "<p><a class=\"sitemaplink\" href=\"/undergrad/courses/enve/\">Environmental Engineering</a></p>\n",
       "<p><a class=\"sitemaplink\" href=\"/undergrad/courses/envs/\">Environmental Science</a></p>\n",
       "<p><a class=\"sitemaplink\" href=\"/undergrad/courses/fash/\">Fashion Studies</a></p>\n",
       "<p><a class=\"sitemaplink\" href=\"/undergrad/courses/fin/\">Finance</a></p>\n",
       "<p><a class=\"sitemaplink\" href=\"/undergrad/courses/fa/\">Fine Arts</a></p>\n",
       "<p><a class=\"sitemaplink\" href=\"/undergrad/courses/fdsc/\">Food Science</a></p>\n",
       "<p><a class=\"sitemaplink\" href=\"/undergrad/courses/lang/\">Foreign Language</a></p>\n",
       "<p><a class=\"sitemaplink\" href=\"/undergrad/courses/fren/\">French</a></p>\n",
       "<p><a class=\"sitemaplink\" href=\"/undergrad/courses/gstu/\">General Studies</a></p>\n",
       "<p><a class=\"sitemaplink\" href=\"/undergrad/courses/geog/\">Geography</a></p>\n",
       "<p><a class=\"sitemaplink\" href=\"/undergrad/courses/geol/\">Geology</a></p>\n",
       "<p><a class=\"sitemaplink\" href=\"/undergrad/courses/germ/\">German</a></p>\n",
       "<p><a class=\"sitemaplink\" href=\"/undergrad/courses/glsp/\">Government, Legal Studies, and Philosophy</a></p>\n",
       "<p><a class=\"sitemaplink\" href=\"/undergrad/courses/govt/\">Government</a></p>\n",
       "<p><a class=\"sitemaplink\" href=\"/undergrad/courses/hpt/\">Health Professions Technology</a></p>\n",
       "<p><a class=\"sitemaplink\" href=\"/undergrad/courses/hshs/\">Health Sciences and Human Services</a></p>\n",
       "<p><a class=\"sitemaplink\" href=\"/undergrad/courses/hlab/\">Histology Technician</a></p>\n",
       "<p><a class=\"sitemaplink\" href=\"/undergrad/courses/hsgg\">History, Sociology, and Geography</a></p>\n",
       "<p><a class=\"sitemaplink\" href=\"/undergrad/courses/hist/\">History</a></p>\n",
       "<p><a class=\"sitemaplink\" href=\"/undergrad/courses/heco/\">Home Economics</a></p>\n",
       "<p><a class=\"sitemaplink\" href=\"/undergrad/courses/hnrs/\">Honors</a></p>\n",
       "<p><a class=\"sitemaplink\" href=\"/undergrad/courses/hort/\">Horticulture</a></p>\n",
       "<p><a class=\"sitemaplink\" href=\"/undergrad/courses/huma/\">Humanities</a></p>\n",
       "<p><a class=\"sitemaplink\" href=\"/undergrad/courses/idis/\">Industrial Distribution</a></p>\n",
       "<p><a class=\"sitemaplink\" href=\"/undergrad/courses/inds/\">Interior Design</a></p>\n",
       "<p><a class=\"sitemaplink\" href=\"/undergrad/courses/kine/\">Kinesiology</a></p>\n",
       "<p><a class=\"sitemaplink\" href=\"/undergrad/courses/ldrs/\">Leadership Studies</a></p>\n",
       "<p><a class=\"sitemaplink\" href=\"/undergrad/courses/legl/\">Legal Studies</a></p>\n",
       "<p><a class=\"sitemaplink\" href=\"/undergrad/courses/lbfa/\">Liberal and Fine Arts</a></p>\n",
       "<p><a class=\"sitemaplink\" href=\"/undergrad/courses/mgmt/\">Management</a></p>\n",
       "<p><a class=\"sitemaplink\" href=\"/undergrad/courses/mktg/\">Marketing</a></p>\n",
       "<p><a class=\"sitemaplink\" href=\"/undergrad/courses/math/\">Mathematics</a></p>\n",
       "<p><a class=\"sitemaplink\" href=\"/undergrad/courses/meen/\">Mechanical Engineering</a></p>\n",
       "<p><a class=\"sitemaplink\" href=\"/undergrad/courses/mls/\">Medical Laboratory Sciences</a></p>\n",
       "<p><a class=\"sitemaplink\" href=\"/undergrad/courses/mlab/\">Medical Laboratory Technician</a></p>\n",
       "<p><a class=\"sitemaplink\" href=\"/undergrad/courses/ms/\">Military Science</a></p>\n",
       "<p><a class=\"sitemaplink\" href=\"/undergrad/courses/muen/\">Music Ensemble</a></p>\n",
       "<p><a class=\"sitemaplink\" href=\"/undergrad/courses/musc/\">Music</a></p>\n",
       "<p><a class=\"sitemaplink\" href=\"/undergrad/courses/muap/\">Music-Applied</a></p>\n",
       "<p><a class=\"sitemaplink\" href=\"/undergrad/courses/nrsc/\">Neuroscience</a></p>\n",
       "<p><a class=\"sitemaplink\" href=\"/undergrad/courses/nur/\">Nursing</a></p>\n",
       "<p><a class=\"sitemaplink\" href=\"/undergrad/courses/nutr/\">Nutrition</a></p>\n",
       "<p><a class=\"sitemaplink\" href=\"/undergrad/courses/phil/\">Philosophy</a></p>\n",
       "<p><a class=\"sitemaplink\" href=\"/undergrad/courses/phys/\">Physics</a></p>\n",
       "<p><a class=\"sitemaplink\" href=\"/undergrad/courses/pols/\">Political Science</a></p>\n",
       "<p><a class=\"sitemaplink\" href=\"/undergrad/courses/psy/\">Psychology</a></p>\n",
       "<p><a class=\"sitemaplink\" href=\"/undergrad/courses/puad/\">Public Administration</a></p>\n",
       "<p><a class=\"sitemaplink\" href=\"/undergrad/courses/pbhl/\">Public Health</a></p>\n",
       "<p><a class=\"sitemaplink\" href=\"/undergrad/courses/rnrm/\">Range and Ranch Mmgmt</a></p>\n",
       "<p><a class=\"sitemaplink\" href=\"/undergrad/courses/rdg/\">Reading</a></p>\n",
       "<p><a class=\"sitemaplink\" href=\"/undergrad/courses/rest/\">Real Estate</a></p>\n",
       "<p><a class=\"sitemaplink\" href=\"/undergrad/courses/rs/\">Religion Studies</a></p>\n",
       "<p><a class=\"sitemaplink\" href=\"/undergrad/courses/seng/\">School of Engineering</a></p>\n",
       "<p><a class=\"sitemaplink\" href=\"/undergrad/courses/scma/\">Sciences and Mathematics</a></p>\n",
       "<p><a class=\"sitemaplink\" href=\"/undergrad/courses/swk/\">Social Work</a></p>\n",
       "<p><a class=\"sitemaplink\" href=\"/undergrad/courses/soc/\">Sociology</a></p>\n",
       "<p><a class=\"sitemaplink\" href=\"/undergrad/courses/soil/\">Soil Science</a></p>\n",
       "<p><a class=\"sitemaplink\" href=\"/undergrad/courses/span/\">Spanish</a></p>\n",
       "<p><a class=\"sitemaplink\" href=\"/undergrad/courses/edsp/\">Special Education</a></p>\n",
       "<p><a href=\"/undergrad/courses/stat/\">Statistics</a></p>\n",
       "<p><a class=\"sitemaplink\" href=\"/undergrad/courses/univ/\">University Studies</a></p>\n",
       "<p><a class=\"sitemaplink\" href=\"/undergrad/courses/vete/\">Veterinary Technology</a></p>\n",
       "<p><a class=\"sitemaplink\" href=\"/undergrad/courses/wses/\">Wildlife, Sustainability and Ecosystem Sciences</a></p>\n",
       "</div>"
      ]
     },
     "execution_count": 18,
     "metadata": {},
     "output_type": "execute_result"
    }
   ],
   "source": [
    "results =data.find(\"div\",id=\"textcontainer\")\n",
    "results"
   ]
  },
  {
   "cell_type": "code",
   "execution_count": 33,
   "metadata": {},
   "outputs": [],
   "source": [
    "\n",
    "# majors = [str(_).strip(\"<li>\").strip(\"</li>\") for _ in list(results.find_all(\"li\"))[3::]]\n",
    "stuff = results.find_all(\"a\",{\"class\":'sitemaplink'})\n",
    "\n",
    "stuff\n",
    "links_and_text = []\n",
    "\n",
    "for a_tag in stuff:\n",
    "    link = a_tag['href']\n",
    "    text = a_tag.text\n",
    "    links_and_text.append({\"link\":link,\"major\": text})"
   ]
  },
  {
   "cell_type": "code",
   "execution_count": 34,
   "metadata": {},
   "outputs": [
    {
     "data": {
      "text/plain": [
       "[{'link': '/undergrad/courses/acc/', 'major': 'Accounting'},\n",
       " {'link': '/undergrad/courses/adms/', 'major': 'Administration'},\n",
       " {'link': '/undergrad/courses/aest/', 'major': 'Aerospace Studies'},\n",
       " {'link': '/undergrad/courses/agsd/',\n",
       "  'major': 'Agri Services and Development'},\n",
       " {'link': '/undergrad/courses/acom/', 'major': 'Agricultural Communications'},\n",
       " {'link': '/undergrad/courses/aec/', 'major': 'Agricultural Economics'},\n",
       " {'link': '/undergrad/courses/agnr/',\n",
       "  'major': 'Agriculture and Natural Resources'},\n",
       " {'link': '/undergrad/courses/agri/', 'major': 'Agriculture'},\n",
       " {'link': '/undergrad/courses/ansc/', 'major': 'Animal Science'},\n",
       " {'link': '/undergrad/courses/anth/', 'major': 'Anthropology'},\n",
       " {'link': '/undergrad/courses/art/', 'major': 'Art'},\n",
       " {'link': '/undergrad/courses/biol/', 'major': 'Biology'},\n",
       " {'link': '/undergrad/courses/bcis/',\n",
       "  'major': 'Business Computer Information Systems'},\n",
       " {'link': '/undergrad/courses/blaw/', 'major': 'Business Law'},\n",
       " {'link': '/undergrad/courses/busi/', 'major': 'Business'},\n",
       " {'link': '/undergrad/courses/chem/', 'major': 'Chemistry'},\n",
       " {'link': '/undergrad/courses/chfs/', 'major': 'Child and Family Studies'},\n",
       " {'link': '/undergrad/courses/cven/', 'major': 'Civil Engineering'},\n",
       " {'link': '/undergrad/courses/csdo/',\n",
       "  'major': 'Communication Sciences and Disorders'},\n",
       " {'link': '/undergrad/courses/coms/', 'major': 'Communication'},\n",
       " {'link': '/undergrad/courses/cs/', 'major': 'Computer Science'},\n",
       " {'link': '/undergrad/courses/cnst/', 'major': 'Construction'},\n",
       " {'link': '/undergrad/courses/cnsl/', 'major': 'Counseling'},\n",
       " {'link': '/undergrad/courses/cj/', 'major': 'Criminal Justice'},\n",
       " {'link': '/undergrad/courses/danc/', 'major': 'Dance'},\n",
       " {'link': '/undergrad/courses/dram/', 'major': 'Drama'},\n",
       " {'link': '/undergrad/courses/teca/', 'major': 'Early Childhood Education'},\n",
       " {'link': '/undergrad/courses/es/', 'major': 'Earth Science'},\n",
       " {'link': '/undergrad/courses/eco/', 'major': 'Economics'},\n",
       " {'link': '/undergrad/courses/edu/', 'major': 'Education'},\n",
       " {'link': '/undergrad/courses/elen/', 'major': 'Electrical Engineering'},\n",
       " {'link': '/undergrad/courses/engt/', 'major': 'Engineering Technology'},\n",
       " {'link': '/undergrad/courses/engr/', 'major': 'Engineering'},\n",
       " {'link': '/undergrad/courses/engl/', 'major': 'English'},\n",
       " {'link': '/undergrad/courses/enve/', 'major': 'Environmental Engineering'},\n",
       " {'link': '/undergrad/courses/envs/', 'major': 'Environmental Science'},\n",
       " {'link': '/undergrad/courses/fash/', 'major': 'Fashion Studies'},\n",
       " {'link': '/undergrad/courses/fin/', 'major': 'Finance'},\n",
       " {'link': '/undergrad/courses/fa/', 'major': 'Fine Arts'},\n",
       " {'link': '/undergrad/courses/fdsc/', 'major': 'Food Science'},\n",
       " {'link': '/undergrad/courses/lang/', 'major': 'Foreign Language'},\n",
       " {'link': '/undergrad/courses/fren/', 'major': 'French'},\n",
       " {'link': '/undergrad/courses/gstu/', 'major': 'General Studies'},\n",
       " {'link': '/undergrad/courses/geog/', 'major': 'Geography'},\n",
       " {'link': '/undergrad/courses/geol/', 'major': 'Geology'},\n",
       " {'link': '/undergrad/courses/germ/', 'major': 'German'},\n",
       " {'link': '/undergrad/courses/glsp/',\n",
       "  'major': 'Government, Legal Studies, and Philosophy'},\n",
       " {'link': '/undergrad/courses/govt/', 'major': 'Government'},\n",
       " {'link': '/undergrad/courses/hpt/', 'major': 'Health Professions Technology'},\n",
       " {'link': '/undergrad/courses/hshs/',\n",
       "  'major': 'Health Sciences and Human Services'},\n",
       " {'link': '/undergrad/courses/hlab/', 'major': 'Histology Technician'},\n",
       " {'link': '/undergrad/courses/hsgg',\n",
       "  'major': 'History, Sociology, and Geography'},\n",
       " {'link': '/undergrad/courses/hist/', 'major': 'History'},\n",
       " {'link': '/undergrad/courses/heco/', 'major': 'Home Economics'},\n",
       " {'link': '/undergrad/courses/hnrs/', 'major': 'Honors'},\n",
       " {'link': '/undergrad/courses/hort/', 'major': 'Horticulture'},\n",
       " {'link': '/undergrad/courses/huma/', 'major': 'Humanities'},\n",
       " {'link': '/undergrad/courses/idis/', 'major': 'Industrial Distribution'},\n",
       " {'link': '/undergrad/courses/inds/', 'major': 'Interior Design'},\n",
       " {'link': '/undergrad/courses/kine/', 'major': 'Kinesiology'},\n",
       " {'link': '/undergrad/courses/ldrs/', 'major': 'Leadership Studies'},\n",
       " {'link': '/undergrad/courses/legl/', 'major': 'Legal Studies'},\n",
       " {'link': '/undergrad/courses/lbfa/', 'major': 'Liberal and Fine Arts'},\n",
       " {'link': '/undergrad/courses/mgmt/', 'major': 'Management'},\n",
       " {'link': '/undergrad/courses/mktg/', 'major': 'Marketing'},\n",
       " {'link': '/undergrad/courses/math/', 'major': 'Mathematics'},\n",
       " {'link': '/undergrad/courses/meen/', 'major': 'Mechanical Engineering'},\n",
       " {'link': '/undergrad/courses/mls/', 'major': 'Medical Laboratory Sciences'},\n",
       " {'link': '/undergrad/courses/mlab/',\n",
       "  'major': 'Medical Laboratory Technician'},\n",
       " {'link': '/undergrad/courses/ms/', 'major': 'Military Science'},\n",
       " {'link': '/undergrad/courses/muen/', 'major': 'Music Ensemble'},\n",
       " {'link': '/undergrad/courses/musc/', 'major': 'Music'},\n",
       " {'link': '/undergrad/courses/muap/', 'major': 'Music-Applied'},\n",
       " {'link': '/undergrad/courses/nrsc/', 'major': 'Neuroscience'},\n",
       " {'link': '/undergrad/courses/nur/', 'major': 'Nursing'},\n",
       " {'link': '/undergrad/courses/nutr/', 'major': 'Nutrition'},\n",
       " {'link': '/undergrad/courses/phil/', 'major': 'Philosophy'},\n",
       " {'link': '/undergrad/courses/phys/', 'major': 'Physics'},\n",
       " {'link': '/undergrad/courses/pols/', 'major': 'Political Science'},\n",
       " {'link': '/undergrad/courses/psy/', 'major': 'Psychology'},\n",
       " {'link': '/undergrad/courses/puad/', 'major': 'Public Administration'},\n",
       " {'link': '/undergrad/courses/pbhl/', 'major': 'Public Health'},\n",
       " {'link': '/undergrad/courses/rnrm/', 'major': 'Range and Ranch Mmgmt'},\n",
       " {'link': '/undergrad/courses/rdg/', 'major': 'Reading'},\n",
       " {'link': '/undergrad/courses/rest/', 'major': 'Real Estate'},\n",
       " {'link': '/undergrad/courses/rs/', 'major': 'Religion Studies'},\n",
       " {'link': '/undergrad/courses/seng/', 'major': 'School of Engineering'},\n",
       " {'link': '/undergrad/courses/scma/', 'major': 'Sciences and Mathematics'},\n",
       " {'link': '/undergrad/courses/swk/', 'major': 'Social Work'},\n",
       " {'link': '/undergrad/courses/soc/', 'major': 'Sociology'},\n",
       " {'link': '/undergrad/courses/soil/', 'major': 'Soil Science'},\n",
       " {'link': '/undergrad/courses/span/', 'major': 'Spanish'},\n",
       " {'link': '/undergrad/courses/edsp/', 'major': 'Special Education'},\n",
       " {'link': '/undergrad/courses/univ/', 'major': 'University Studies'},\n",
       " {'link': '/undergrad/courses/vete/', 'major': 'Veterinary Technology'},\n",
       " {'link': '/undergrad/courses/wses/',\n",
       "  'major': 'Wildlife, Sustainability and Ecosystem Sciences'}]"
      ]
     },
     "execution_count": 34,
     "metadata": {},
     "output_type": "execute_result"
    }
   ],
   "source": [
    "links_and_text"
   ]
  },
  {
   "cell_type": "code",
   "execution_count": 11,
   "metadata": {},
   "outputs": [
    {
     "data": {
      "text/plain": [
       "[]"
      ]
     },
     "execution_count": 11,
     "metadata": {},
     "output_type": "execute_result"
    }
   ],
   "source": [
    "majors.sort()\n",
    "majors"
   ]
  },
  {
   "cell_type": "code",
   "execution_count": 79,
   "metadata": {},
   "outputs": [],
   "source": [
    "m_ = []\n",
    "for _ in majors:\n",
    "    if _ not in m_:\n",
    "        m_.append(_)"
   ]
  },
  {
   "cell_type": "code",
   "execution_count": 80,
   "metadata": {},
   "outputs": [
    {
     "data": {
      "text/plain": [
       "['Accounting',\n",
       " 'Agribusiness',\n",
       " 'Agricultural Communication',\n",
       " 'Agricultural Services &amp; Development',\n",
       " 'Animal Science',\n",
       " 'Applied Science',\n",
       " 'Art',\n",
       " 'Biology',\n",
       " 'Biomedical Sciences',\n",
       " 'Biotechnology',\n",
       " 'Business',\n",
       " 'Chemistry',\n",
       " 'Child Development and Family Studies',\n",
       " 'Civil Engineering',\n",
       " 'Communication Science and Disorders',\n",
       " 'Communication Studies',\n",
       " 'Computer Information Systems',\n",
       " 'Computer Science',\n",
       " 'Construction Science and Management',\n",
       " 'Criminal Justice',\n",
       " 'Criminal Justice Administration',\n",
       " 'Cybersecurity',\n",
       " 'Digital Media Studies',\n",
       " 'Economics',\n",
       " 'Electrical Engineering',\n",
       " 'Elementary Teacher Education',\n",
       " 'English',\n",
       " 'Environmental Engineering',\n",
       " 'Environmental Sciences',\n",
       " 'Fashion Studies',\n",
       " 'Finance',\n",
       " 'General Business',\n",
       " 'General Studies',\n",
       " 'Geographic Information Systems',\n",
       " 'Geoscience',\n",
       " 'Health Professions Technology',\n",
       " 'History',\n",
       " 'Histotechnology',\n",
       " 'Horticultural and Plant Sciences',\n",
       " 'Human Resources Management',\n",
       " 'Industrial Technology',\n",
       " 'Information Technology',\n",
       " 'International Business',\n",
       " 'International Studies',\n",
       " 'Kinesiology',\n",
       " 'Legal Studies',\n",
       " 'Management',\n",
       " 'Manufacturing Engineering Technology',\n",
       " 'Manufacturing and Industrial Management',\n",
       " 'Marketing',\n",
       " 'Mathematics',\n",
       " 'Mechanical Engineering',\n",
       " 'Mechanical Engineering Technology',\n",
       " 'Medical Laboratory Science',\n",
       " 'Medical Laboratory Technology',\n",
       " 'Music',\n",
       " 'Nursing',\n",
       " 'Performance',\n",
       " 'Physics',\n",
       " 'Political Science',\n",
       " 'Psychology',\n",
       " 'Public Administration',\n",
       " 'Public Health',\n",
       " 'Secondary Teacher Education',\n",
       " 'Social Work',\n",
       " 'Sociology',\n",
       " 'Spanish',\n",
       " 'Sport Management',\n",
       " 'Statistics',\n",
       " 'Theatre',\n",
       " 'Wildlife, Sustainability and Ecosystem Sciences']"
      ]
     },
     "execution_count": 80,
     "metadata": {},
     "output_type": "execute_result"
    }
   ],
   "source": [
    "m_"
   ]
  },
  {
   "cell_type": "code",
   "execution_count": 81,
   "metadata": {},
   "outputs": [],
   "source": [
    "import pandas as pd"
   ]
  },
  {
   "cell_type": "code",
   "execution_count": 53,
   "metadata": {},
   "outputs": [],
   "source": [
    "def tojson(arr:list,save:bool=False)->list:\n",
    "    box=[]\n",
    "    i=0\n",
    "    # for _ in arr:\n",
    "    #     i+=1\n",
    "    #     dic_ = {\n",
    "    #         'index':i,\n",
    "    #         'major':_\n",
    "    #     }\n",
    "    #     box.append(dic_)\n",
    "    # # if save:\n",
    "    # #     open('links_data.json','w').write(str(arr))\n",
    "    # # return box\n",
    "    import json\n",
    "    print(json.loads(arr))\n",
    "    with open('links_data.json') as f:\n",
    "    \n",
    "        json.dump([{}], f)\n",
    "    # json.dump(arr, open('links_data.json'))"
   ]
  },
  {
   "cell_type": "code",
   "execution_count": 54,
   "metadata": {},
   "outputs": [
    {
     "ename": "TypeError",
     "evalue": "the JSON object must be str, bytes or bytearray, not list",
     "output_type": "error",
     "traceback": [
      "\u001b[0;31m---------------------------------------------------------------------------\u001b[0m",
      "\u001b[0;31mTypeError\u001b[0m                                 Traceback (most recent call last)",
      "Cell \u001b[0;32mIn[54], line 1\u001b[0m\n\u001b[0;32m----> 1\u001b[0m tojson(links_and_text,save\u001b[39m=\u001b[39;49m\u001b[39mTrue\u001b[39;49;00m)\n",
      "Cell \u001b[0;32mIn[53], line 15\u001b[0m, in \u001b[0;36mtojson\u001b[0;34m(arr, save)\u001b[0m\n\u001b[1;32m      4\u001b[0m \u001b[39m# for _ in arr:\u001b[39;00m\n\u001b[1;32m      5\u001b[0m \u001b[39m#     i+=1\u001b[39;00m\n\u001b[1;32m      6\u001b[0m \u001b[39m#     dic_ = {\u001b[39;00m\n\u001b[0;32m   (...)\u001b[0m\n\u001b[1;32m     12\u001b[0m \u001b[39m# #     open('links_data.json','w').write(str(arr))\u001b[39;00m\n\u001b[1;32m     13\u001b[0m \u001b[39m# # return box\u001b[39;00m\n\u001b[1;32m     14\u001b[0m \u001b[39mimport\u001b[39;00m \u001b[39mjson\u001b[39;00m\n\u001b[0;32m---> 15\u001b[0m \u001b[39mprint\u001b[39m(json\u001b[39m.\u001b[39;49mloads(arr))\n\u001b[1;32m     16\u001b[0m \u001b[39mwith\u001b[39;00m \u001b[39mopen\u001b[39m(\u001b[39m'\u001b[39m\u001b[39mlinks_data.json\u001b[39m\u001b[39m'\u001b[39m) \u001b[39mas\u001b[39;00m f:\n\u001b[1;32m     18\u001b[0m     json\u001b[39m.\u001b[39mdump([], f)\n",
      "File \u001b[0;32m/opt/homebrew/Cellar/python@3.10/3.10.9/Frameworks/Python.framework/Versions/3.10/lib/python3.10/json/__init__.py:339\u001b[0m, in \u001b[0;36mloads\u001b[0;34m(s, cls, object_hook, parse_float, parse_int, parse_constant, object_pairs_hook, **kw)\u001b[0m\n\u001b[1;32m    337\u001b[0m \u001b[39melse\u001b[39;00m:\n\u001b[1;32m    338\u001b[0m     \u001b[39mif\u001b[39;00m \u001b[39mnot\u001b[39;00m \u001b[39misinstance\u001b[39m(s, (\u001b[39mbytes\u001b[39m, \u001b[39mbytearray\u001b[39m)):\n\u001b[0;32m--> 339\u001b[0m         \u001b[39mraise\u001b[39;00m \u001b[39mTypeError\u001b[39;00m(\u001b[39mf\u001b[39m\u001b[39m'\u001b[39m\u001b[39mthe JSON object must be str, bytes or bytearray, \u001b[39m\u001b[39m'\u001b[39m\n\u001b[1;32m    340\u001b[0m                         \u001b[39mf\u001b[39m\u001b[39m'\u001b[39m\u001b[39mnot \u001b[39m\u001b[39m{\u001b[39;00ms\u001b[39m.\u001b[39m\u001b[39m__class__\u001b[39m\u001b[39m.\u001b[39m\u001b[39m__name__\u001b[39m\u001b[39m}\u001b[39;00m\u001b[39m'\u001b[39m)\n\u001b[1;32m    341\u001b[0m     s \u001b[39m=\u001b[39m s\u001b[39m.\u001b[39mdecode(detect_encoding(s), \u001b[39m'\u001b[39m\u001b[39msurrogatepass\u001b[39m\u001b[39m'\u001b[39m)\n\u001b[1;32m    343\u001b[0m \u001b[39mif\u001b[39;00m (\u001b[39mcls\u001b[39m \u001b[39mis\u001b[39;00m \u001b[39mNone\u001b[39;00m \u001b[39mand\u001b[39;00m object_hook \u001b[39mis\u001b[39;00m \u001b[39mNone\u001b[39;00m \u001b[39mand\u001b[39;00m\n\u001b[1;32m    344\u001b[0m         parse_int \u001b[39mis\u001b[39;00m \u001b[39mNone\u001b[39;00m \u001b[39mand\u001b[39;00m parse_float \u001b[39mis\u001b[39;00m \u001b[39mNone\u001b[39;00m \u001b[39mand\u001b[39;00m\n\u001b[1;32m    345\u001b[0m         parse_constant \u001b[39mis\u001b[39;00m \u001b[39mNone\u001b[39;00m \u001b[39mand\u001b[39;00m object_pairs_hook \u001b[39mis\u001b[39;00m \u001b[39mNone\u001b[39;00m \u001b[39mand\u001b[39;00m \u001b[39mnot\u001b[39;00m kw):\n",
      "\u001b[0;31mTypeError\u001b[0m: the JSON object must be str, bytes or bytearray, not list"
     ]
    }
   ],
   "source": [
    "tojson(links_and_text,save=True)"
   ]
  },
  {
   "cell_type": "code",
   "execution_count": null,
   "metadata": {},
   "outputs": [],
   "source": []
  }
 ],
 "metadata": {
  "kernelspec": {
   "display_name": "Python 3",
   "language": "python",
   "name": "python3"
  },
  "language_info": {
   "codemirror_mode": {
    "name": "ipython",
    "version": 3
   },
   "file_extension": ".py",
   "mimetype": "text/x-python",
   "name": "python",
   "nbconvert_exporter": "python",
   "pygments_lexer": "ipython3",
   "version": "3.10.9"
  },
  "vscode": {
   "interpreter": {
    "hash": "b0fa6594d8f4cbf19f97940f81e996739fb7646882a419484c72d19e05852a7e"
   }
  }
 },
 "nbformat": 4,
 "nbformat_minor": 4
}
