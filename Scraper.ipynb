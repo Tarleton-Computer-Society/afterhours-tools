{
 "cells": [
  {
   "cell_type": "code",
   "execution_count": 105,
   "metadata": {},
   "outputs": [
    {
     "name": "stdout",
     "output_type": "stream",
     "text": [
      "Requirement already satisfied: bs4 in /home/teddy/.local/lib/python3.8/site-packages (0.0.1)\n",
      "Requirement already satisfied: pandas in /home/teddy/.local/lib/python3.8/site-packages (1.5.0)\n",
      "Requirement already satisfied: beautifulsoup4 in /home/teddy/.local/lib/python3.8/site-packages (from bs4) (4.11.1)\n",
      "Requirement already satisfied: pytz>=2020.1 in /home/teddy/.local/lib/python3.8/site-packages (from pandas) (2022.4)\n",
      "Requirement already satisfied: python-dateutil>=2.8.1 in /home/teddy/.local/lib/python3.8/site-packages (from pandas) (2.8.2)\n",
      "Requirement already satisfied: numpy>=1.20.3; python_version < \"3.10\" in /home/teddy/.local/lib/python3.8/site-packages (from pandas) (1.23.3)\n",
      "Requirement already satisfied: soupsieve>1.2 in /home/teddy/.local/lib/python3.8/site-packages (from beautifulsoup4->bs4) (2.3.2.post1)\n",
      "Requirement already satisfied: six>=1.5 in /usr/lib/python3/dist-packages (from python-dateutil>=2.8.1->pandas) (1.14.0)\n"
     ]
    }
   ],
   "source": [
    "!pip3 install bs4 pandas\n"
   ]
  },
  {
   "cell_type": "code",
   "execution_count": 52,
   "metadata": {},
   "outputs": [],
   "source": [
    "import requests\n",
    "from bs4 import BeautifulSoup\n",
    "\n",
    "URL = \"https://catalog.tarleton.edu/undergrad/undergraduateacademicprograms/\"\n",
    "page = requests.get(URL)\n",
    "\n",
    "data = BeautifulSoup(page.content, \"html.parser\")\n"
   ]
  },
  {
   "cell_type": "code",
   "execution_count": 53,
   "metadata": {},
   "outputs": [],
   "source": [
    "results =data.find(\"div\",id=\"textcontainer\")"
   ]
  },
  {
   "cell_type": "code",
   "execution_count": 76,
   "metadata": {},
   "outputs": [],
   "source": [
    "\n",
    "majors = [str(_).strip(\"<li>\").strip(\"</li>\") for _ in list(results.find_all(\"li\"))[3::] if _ not in majors]\n"
   ]
  },
  {
   "cell_type": "code",
   "execution_count": 77,
   "metadata": {},
   "outputs": [
    {
     "data": {
      "text/plain": [
       "['Accounting',\n",
       " 'Agribusiness',\n",
       " 'Agricultural Communication',\n",
       " 'Agricultural Services &amp; Development',\n",
       " 'Animal Science',\n",
       " 'Applied Science',\n",
       " 'Art',\n",
       " 'Biology',\n",
       " 'Biomedical Sciences',\n",
       " 'Biotechnology',\n",
       " 'Business',\n",
       " 'Chemistry',\n",
       " 'Child Development and Family Studies',\n",
       " 'Child Development and Family Studies',\n",
       " 'Civil Engineering',\n",
       " 'Communication Science and Disorders',\n",
       " 'Communication Studies',\n",
       " 'Communication Studies',\n",
       " 'Computer Information Systems',\n",
       " 'Computer Information Systems',\n",
       " 'Computer Science',\n",
       " 'Construction Science and Management',\n",
       " 'Construction Science and Management',\n",
       " 'Criminal Justice',\n",
       " 'Criminal Justice Administration',\n",
       " 'Cybersecurity',\n",
       " 'Digital Media Studies',\n",
       " 'Economics',\n",
       " 'Electrical Engineering',\n",
       " 'Elementary Teacher Education',\n",
       " 'English',\n",
       " 'Environmental Engineering',\n",
       " 'Environmental Sciences',\n",
       " 'Fashion Studies',\n",
       " 'Finance',\n",
       " 'General Business',\n",
       " 'General Studies',\n",
       " 'Geographic Information Systems',\n",
       " 'Geographic Information Systems',\n",
       " 'Geoscience',\n",
       " 'Health Professions Technology',\n",
       " 'History',\n",
       " 'Histotechnology',\n",
       " 'Horticultural and Plant Sciences',\n",
       " 'Human Resources Management',\n",
       " 'Industrial Technology',\n",
       " 'Information Technology',\n",
       " 'International Business',\n",
       " 'International Studies',\n",
       " 'Kinesiology',\n",
       " 'Kinesiology',\n",
       " 'Legal Studies',\n",
       " 'Management',\n",
       " 'Manufacturing Engineering Technology',\n",
       " 'Manufacturing Engineering Technology',\n",
       " 'Manufacturing and Industrial Management',\n",
       " 'Marketing',\n",
       " 'Mathematics',\n",
       " 'Mechanical Engineering',\n",
       " 'Mechanical Engineering Technology',\n",
       " 'Mechanical Engineering Technology',\n",
       " 'Medical Laboratory Science',\n",
       " 'Medical Laboratory Technology',\n",
       " 'Music',\n",
       " 'Music',\n",
       " 'Nursing',\n",
       " 'Performance',\n",
       " 'Physics',\n",
       " 'Political Science',\n",
       " 'Political Science',\n",
       " 'Psychology',\n",
       " 'Public Administration',\n",
       " 'Public Administration',\n",
       " 'Public Health',\n",
       " 'Secondary Teacher Education',\n",
       " 'Social Work',\n",
       " 'Sociology',\n",
       " 'Spanish',\n",
       " 'Sport Management',\n",
       " 'Statistics',\n",
       " 'Theatre',\n",
       " 'Wildlife, Sustainability and Ecosystem Sciences']"
      ]
     },
     "execution_count": 77,
     "metadata": {},
     "output_type": "execute_result"
    }
   ],
   "source": [
    "majors.sort()\n",
    "majors"
   ]
  },
  {
   "cell_type": "code",
   "execution_count": 79,
   "metadata": {},
   "outputs": [],
   "source": [
    "m_ = []\n",
    "for _ in majors:\n",
    "    if _ not in m_:\n",
    "        m_.append(_)"
   ]
  },
  {
   "cell_type": "code",
   "execution_count": 80,
   "metadata": {},
   "outputs": [
    {
     "data": {
      "text/plain": [
       "['Accounting',\n",
       " 'Agribusiness',\n",
       " 'Agricultural Communication',\n",
       " 'Agricultural Services &amp; Development',\n",
       " 'Animal Science',\n",
       " 'Applied Science',\n",
       " 'Art',\n",
       " 'Biology',\n",
       " 'Biomedical Sciences',\n",
       " 'Biotechnology',\n",
       " 'Business',\n",
       " 'Chemistry',\n",
       " 'Child Development and Family Studies',\n",
       " 'Civil Engineering',\n",
       " 'Communication Science and Disorders',\n",
       " 'Communication Studies',\n",
       " 'Computer Information Systems',\n",
       " 'Computer Science',\n",
       " 'Construction Science and Management',\n",
       " 'Criminal Justice',\n",
       " 'Criminal Justice Administration',\n",
       " 'Cybersecurity',\n",
       " 'Digital Media Studies',\n",
       " 'Economics',\n",
       " 'Electrical Engineering',\n",
       " 'Elementary Teacher Education',\n",
       " 'English',\n",
       " 'Environmental Engineering',\n",
       " 'Environmental Sciences',\n",
       " 'Fashion Studies',\n",
       " 'Finance',\n",
       " 'General Business',\n",
       " 'General Studies',\n",
       " 'Geographic Information Systems',\n",
       " 'Geoscience',\n",
       " 'Health Professions Technology',\n",
       " 'History',\n",
       " 'Histotechnology',\n",
       " 'Horticultural and Plant Sciences',\n",
       " 'Human Resources Management',\n",
       " 'Industrial Technology',\n",
       " 'Information Technology',\n",
       " 'International Business',\n",
       " 'International Studies',\n",
       " 'Kinesiology',\n",
       " 'Legal Studies',\n",
       " 'Management',\n",
       " 'Manufacturing Engineering Technology',\n",
       " 'Manufacturing and Industrial Management',\n",
       " 'Marketing',\n",
       " 'Mathematics',\n",
       " 'Mechanical Engineering',\n",
       " 'Mechanical Engineering Technology',\n",
       " 'Medical Laboratory Science',\n",
       " 'Medical Laboratory Technology',\n",
       " 'Music',\n",
       " 'Nursing',\n",
       " 'Performance',\n",
       " 'Physics',\n",
       " 'Political Science',\n",
       " 'Psychology',\n",
       " 'Public Administration',\n",
       " 'Public Health',\n",
       " 'Secondary Teacher Education',\n",
       " 'Social Work',\n",
       " 'Sociology',\n",
       " 'Spanish',\n",
       " 'Sport Management',\n",
       " 'Statistics',\n",
       " 'Theatre',\n",
       " 'Wildlife, Sustainability and Ecosystem Sciences']"
      ]
     },
     "execution_count": 80,
     "metadata": {},
     "output_type": "execute_result"
    }
   ],
   "source": [
    "m_"
   ]
  },
  {
   "cell_type": "code",
   "execution_count": 81,
   "metadata": {},
   "outputs": [],
   "source": [
    "import pandas as pd"
   ]
  },
  {
   "cell_type": "code",
   "execution_count": 103,
   "metadata": {},
   "outputs": [],
   "source": [
    "def tojson(arr:list,save:bool=False)->list:\n",
    "    box=[]\n",
    "    i=0\n",
    "    for _ in arr:\n",
    "        i+=1\n",
    "        dic_ = {\n",
    "            'index':i,\n",
    "            'major':_\n",
    "        }\n",
    "        box.append(dic_)\n",
    "    if save:\n",
    "        open('output.json','w').write(str(box))\n",
    "    return box\n",
    "    "
   ]
  },
  {
   "cell_type": "code",
   "execution_count": 104,
   "metadata": {},
   "outputs": [
    {
     "data": {
      "text/plain": [
       "[{'index': 1, 'major': 'Accounting'},\n",
       " {'index': 2, 'major': 'Agribusiness'},\n",
       " {'index': 3, 'major': 'Agricultural Communication'},\n",
       " {'index': 4, 'major': 'Agricultural Services &amp; Development'},\n",
       " {'index': 5, 'major': 'Animal Science'},\n",
       " {'index': 6, 'major': 'Applied Science'},\n",
       " {'index': 7, 'major': 'Art'},\n",
       " {'index': 8, 'major': 'Biology'},\n",
       " {'index': 9, 'major': 'Biomedical Sciences'},\n",
       " {'index': 10, 'major': 'Biotechnology'},\n",
       " {'index': 11, 'major': 'Business'},\n",
       " {'index': 12, 'major': 'Chemistry'},\n",
       " {'index': 13, 'major': 'Child Development and Family Studies'},\n",
       " {'index': 14, 'major': 'Civil Engineering'},\n",
       " {'index': 15, 'major': 'Communication Science and Disorders'},\n",
       " {'index': 16, 'major': 'Communication Studies'},\n",
       " {'index': 17, 'major': 'Computer Information Systems'},\n",
       " {'index': 18, 'major': 'Computer Science'},\n",
       " {'index': 19, 'major': 'Construction Science and Management'},\n",
       " {'index': 20, 'major': 'Criminal Justice'},\n",
       " {'index': 21, 'major': 'Criminal Justice Administration'},\n",
       " {'index': 22, 'major': 'Cybersecurity'},\n",
       " {'index': 23, 'major': 'Digital Media Studies'},\n",
       " {'index': 24, 'major': 'Economics'},\n",
       " {'index': 25, 'major': 'Electrical Engineering'},\n",
       " {'index': 26, 'major': 'Elementary Teacher Education'},\n",
       " {'index': 27, 'major': 'English'},\n",
       " {'index': 28, 'major': 'Environmental Engineering'},\n",
       " {'index': 29, 'major': 'Environmental Sciences'},\n",
       " {'index': 30, 'major': 'Fashion Studies'},\n",
       " {'index': 31, 'major': 'Finance'},\n",
       " {'index': 32, 'major': 'General Business'},\n",
       " {'index': 33, 'major': 'General Studies'},\n",
       " {'index': 34, 'major': 'Geographic Information Systems'},\n",
       " {'index': 35, 'major': 'Geoscience'},\n",
       " {'index': 36, 'major': 'Health Professions Technology'},\n",
       " {'index': 37, 'major': 'History'},\n",
       " {'index': 38, 'major': 'Histotechnology'},\n",
       " {'index': 39, 'major': 'Horticultural and Plant Sciences'},\n",
       " {'index': 40, 'major': 'Human Resources Management'},\n",
       " {'index': 41, 'major': 'Industrial Technology'},\n",
       " {'index': 42, 'major': 'Information Technology'},\n",
       " {'index': 43, 'major': 'International Business'},\n",
       " {'index': 44, 'major': 'International Studies'},\n",
       " {'index': 45, 'major': 'Kinesiology'},\n",
       " {'index': 46, 'major': 'Legal Studies'},\n",
       " {'index': 47, 'major': 'Management'},\n",
       " {'index': 48, 'major': 'Manufacturing Engineering Technology'},\n",
       " {'index': 49, 'major': 'Manufacturing and Industrial Management'},\n",
       " {'index': 50, 'major': 'Marketing'},\n",
       " {'index': 51, 'major': 'Mathematics'},\n",
       " {'index': 52, 'major': 'Mechanical Engineering'},\n",
       " {'index': 53, 'major': 'Mechanical Engineering Technology'},\n",
       " {'index': 54, 'major': 'Medical Laboratory Science'},\n",
       " {'index': 55, 'major': 'Medical Laboratory Technology'},\n",
       " {'index': 56, 'major': 'Music'},\n",
       " {'index': 57, 'major': 'Nursing'},\n",
       " {'index': 58, 'major': 'Performance'},\n",
       " {'index': 59, 'major': 'Physics'},\n",
       " {'index': 60, 'major': 'Political Science'},\n",
       " {'index': 61, 'major': 'Psychology'},\n",
       " {'index': 62, 'major': 'Public Administration'},\n",
       " {'index': 63, 'major': 'Public Health'},\n",
       " {'index': 64, 'major': 'Secondary Teacher Education'},\n",
       " {'index': 65, 'major': 'Social Work'},\n",
       " {'index': 66, 'major': 'Sociology'},\n",
       " {'index': 67, 'major': 'Spanish'},\n",
       " {'index': 68, 'major': 'Sport Management'},\n",
       " {'index': 69, 'major': 'Statistics'},\n",
       " {'index': 70, 'major': 'Theatre'},\n",
       " {'index': 71, 'major': 'Wildlife, Sustainability and Ecosystem Sciences'}]"
      ]
     },
     "execution_count": 104,
     "metadata": {},
     "output_type": "execute_result"
    }
   ],
   "source": [
    "tojson(m_,save=True)"
   ]
  },
  {
   "cell_type": "code",
   "execution_count": null,
   "metadata": {},
   "outputs": [],
   "source": []
  }
 ],
 "metadata": {
  "kernelspec": {
   "display_name": "Python 3",
   "language": "python",
   "name": "python3"
  },
  "language_info": {
   "codemirror_mode": {
    "name": "ipython",
    "version": 3
   },
   "file_extension": ".py",
   "mimetype": "text/x-python",
   "name": "python",
   "nbconvert_exporter": "python",
   "pygments_lexer": "ipython3",
   "version": "3.8.10"
  }
 },
 "nbformat": 4,
 "nbformat_minor": 4
}
